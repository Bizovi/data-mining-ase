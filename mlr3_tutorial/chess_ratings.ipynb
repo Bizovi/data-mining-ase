{
 "cells": [
  {
   "cell_type": "code",
   "execution_count": 17,
   "metadata": {},
   "outputs": [],
   "source": [
    "from typing import List, Literal, Optional\n",
    "import requests\n",
    "import pandas as pd\n",
    "from pydantic import BaseModel"
   ]
  },
  {
   "cell_type": "code",
   "execution_count": 22,
   "metadata": {},
   "outputs": [],
   "source": [
    "class EloHistory(BaseModel):\n",
    "    date: str  # '2021-Dec'\n",
    "    numeric_date: int\n",
    "    standard: int\n",
    "    num_standard_games: int"
   ]
  },
  {
   "cell_type": "code",
   "execution_count": 23,
   "metadata": {},
   "outputs": [],
   "source": [
    "class PlayerInfo(BaseModel):\n",
    "    name: str\n",
    "    federation: str\n",
    "    birth_year: int\n",
    "    sex: Literal[\"Male\", \"Female\"]\n",
    "    title: str\n",
    "    standard_elo: int\n",
    "    rapid_elo: int\n",
    "    blitz_elo: int\n",
    "    world_rank_all_players: int\n",
    "    world_rank_active_players: int\n",
    "    national_rank_all_players: int\n",
    "    national_rank_active_players: int\n",
    "    continental_rank_all_players: int\n",
    "    continental_rank_active_players: int\n",
    "    history: List[EloHistory] = None"
   ]
  },
  {
   "cell_type": "code",
   "execution_count": 24,
   "metadata": {},
   "outputs": [],
   "source": [
    "BASE_URI = \"https://fide-ratings-scraper.herokuapp.com\"\n",
    "\n",
    "def get_player_data(\n",
    "    player_id: int = 13903748, \n",
    "    include_history: bool = True,\n",
    ") -> None:\n",
    "    _hist = \"true\" if include_history else \"false\"\n",
    "    URI = f\"{BASE_URI}/player/{player_id}/info?include_history={_hist}\"\n",
    "    try:\n",
    "        response = requests.get(url=URI).json()\n",
    "        player = PlayerInfo(**response)\n",
    "    except Exception as err:\n",
    "        print(err)\n",
    "    return player\n"
   ]
  },
  {
   "cell_type": "code",
   "execution_count": 26,
   "metadata": {},
   "outputs": [
    {
     "data": {
      "text/plain": [
       "[EloHistory(date='2021-Dec', numeric_date=202112, standard=2230, num_standard_games=0),\n",
       " EloHistory(date='2021-Nov', numeric_date=202111, standard=2230, num_standard_games=0),\n",
       " EloHistory(date='2021-Oct', numeric_date=202110, standard=2230, num_standard_games=0),\n",
       " EloHistory(date='2021-Sep', numeric_date=202109, standard=2230, num_standard_games=0),\n",
       " EloHistory(date='2021-Aug', numeric_date=202108, standard=2230, num_standard_games=0)]"
      ]
     },
     "execution_count": 26,
     "metadata": {},
     "output_type": "execute_result"
    }
   ],
   "source": [
    "mihai = get_player_data(13903748)\n",
    "mihai.history[0:5]"
   ]
  },
  {
   "cell_type": "code",
   "execution_count": 28,
   "metadata": {},
   "outputs": [
    {
     "data": {
      "text/html": [
       "<div>\n",
       "<style scoped>\n",
       "    .dataframe tbody tr th:only-of-type {\n",
       "        vertical-align: middle;\n",
       "    }\n",
       "\n",
       "    .dataframe tbody tr th {\n",
       "        vertical-align: top;\n",
       "    }\n",
       "\n",
       "    .dataframe thead th {\n",
       "        text-align: right;\n",
       "    }\n",
       "</style>\n",
       "<table border=\"1\" class=\"dataframe\">\n",
       "  <thead>\n",
       "    <tr style=\"text-align: right;\">\n",
       "      <th></th>\n",
       "      <th>date</th>\n",
       "      <th>numeric_date</th>\n",
       "      <th>standard</th>\n",
       "      <th>num_standard_games</th>\n",
       "    </tr>\n",
       "  </thead>\n",
       "  <tbody>\n",
       "    <tr>\n",
       "      <th>0</th>\n",
       "      <td>2021-Dec</td>\n",
       "      <td>202112</td>\n",
       "      <td>2230</td>\n",
       "      <td>0</td>\n",
       "    </tr>\n",
       "    <tr>\n",
       "      <th>1</th>\n",
       "      <td>2021-Nov</td>\n",
       "      <td>202111</td>\n",
       "      <td>2230</td>\n",
       "      <td>0</td>\n",
       "    </tr>\n",
       "    <tr>\n",
       "      <th>2</th>\n",
       "      <td>2021-Oct</td>\n",
       "      <td>202110</td>\n",
       "      <td>2230</td>\n",
       "      <td>0</td>\n",
       "    </tr>\n",
       "    <tr>\n",
       "      <th>3</th>\n",
       "      <td>2021-Sep</td>\n",
       "      <td>202109</td>\n",
       "      <td>2230</td>\n",
       "      <td>0</td>\n",
       "    </tr>\n",
       "    <tr>\n",
       "      <th>4</th>\n",
       "      <td>2021-Aug</td>\n",
       "      <td>202108</td>\n",
       "      <td>2230</td>\n",
       "      <td>0</td>\n",
       "    </tr>\n",
       "  </tbody>\n",
       "</table>\n",
       "</div>"
      ],
      "text/plain": [
       "       date  numeric_date  standard  num_standard_games\n",
       "0  2021-Dec        202112      2230                   0\n",
       "1  2021-Nov        202111      2230                   0\n",
       "2  2021-Oct        202110      2230                   0\n",
       "3  2021-Sep        202109      2230                   0\n",
       "4  2021-Aug        202108      2230                   0"
      ]
     },
     "execution_count": 28,
     "metadata": {},
     "output_type": "execute_result"
    }
   ],
   "source": [
    "df_rating = pd.DataFrame([m.dict() for m in mihai.history])\n",
    "df_rating.head()"
   ]
  },
  {
   "cell_type": "code",
   "execution_count": 29,
   "metadata": {},
   "outputs": [
    {
     "data": {
      "image/png": "[encoded data removed]",
      "text/plain": [
       "<Figure size 720x360 with 1 Axes>"
      ]
     },
     "metadata": {
      "needs_background": "light"
     },
     "output_type": "display_data"
    }
   ],
   "source": [
    "_ = (df_rating\n",
    "    .set_index('date')[\"standard\"]\n",
    "    .sort_index(ascending=True)\n",
    "    .plot(figsize=(10, 5))\n",
    ")"
   ]
  },
  {
   "cell_type": "code",
   "execution_count": null,
   "metadata": {},
   "outputs": [],
   "source": []
  }
 ],
 "metadata": {
  "interpreter": {
   "hash": "fbc9612e1b4c09e878163c28d7d1241e07da8c82d4f72962a578f822b6e50be5"
  },
  "kernelspec": {
   "display_name": "Python 3.8.5 64-bit ('cd-nps': conda)",
   "language": "python",
   "name": "python3"
  },
  "language_info": {
   "codemirror_mode": {
    "name": "ipython",
    "version": 3
   },
   "file_extension": ".py",
   "mimetype": "text/x-python",
   "name": "python",
   "nbconvert_exporter": "python",
   "pygments_lexer": "ipython3",
   "version": "3.8.5"
  },
  "orig_nbformat": 4
 },
 "nbformat": 4,
 "nbformat_minor": 2
}
